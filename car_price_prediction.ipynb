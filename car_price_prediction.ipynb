{
  "cells": [
    {
      "cell_type": "markdown",
      "metadata": {
        "id": "view-in-github",
        "colab_type": "text"
      },
      "source": [
        "<a href=\"https://colab.research.google.com/github/punam03/LP2_Program/blob/main/car_price_prediction.ipynb\" target=\"_parent\"><img src=\"https://colab.research.google.com/assets/colab-badge.svg\" alt=\"Open In Colab\"/></a>"
      ]
    },
    {
      "metadata": {
        "_uuid": "8f2839f25d086af736a60e9eeb907d3b93b6e0e5",
        "_cell_guid": "b1076dfc-b9ad-4769-8c92-a6c4dae69d19",
        "trusted": true,
        "id": "M5f4VhZdRwpg"
      },
      "cell_type": "code",
      "source": [
        "import numpy as np # linear algebra\n",
        "import pandas as pd # data processing, CSV file I/O (e.g. pd.read_csv)\n",
        "#seaborn\n",
        "import seaborn as sns\n",
        "# matplotlib\n",
        "import matplotlib.pyplot as plt\n",
        "# ignore warnings\n",
        "import warnings\n",
        "warnings.filterwarnings(\"ignore\")\n",
        "import os\n",
        "print(os.listdir(\"../input\"))"
      ],
      "execution_count": null,
      "outputs": []
    },
    {
      "metadata": {
        "_cell_guid": "79c7e3d0-c299-4dcb-8224-4455121ee9b0",
        "_uuid": "d629ff2d2480ee46fbb7e2d37f6b5fab8052498a",
        "trusted": true,
        "id": "HNSB_WvPRwph"
      },
      "cell_type": "code",
      "source": [
        "data=pd.read_csv(\"../input/car data.csv\")\n",
        "data.head()"
      ],
      "execution_count": null,
      "outputs": []
    },
    {
      "metadata": {
        "trusted": true,
        "_uuid": "5e1b0525bcfe9d4e3ef1e8502bfb17e47e960d7b",
        "id": "y6hBatCMRwpi"
      },
      "cell_type": "code",
      "source": [
        "data.info()"
      ],
      "execution_count": null,
      "outputs": []
    },
    {
      "metadata": {
        "trusted": true,
        "_uuid": "dcde60708e46dc5f8c27c0fb2a9bdbddb24037cf",
        "id": "7r3qimtERwpi"
      },
      "cell_type": "code",
      "source": [
        "data.isna().any()"
      ],
      "execution_count": null,
      "outputs": []
    },
    {
      "metadata": {
        "trusted": true,
        "_uuid": "b3e2a0c73fafea134e554f9f325e6aa17d7f4817",
        "id": "PdnrdfHERwpj"
      },
      "cell_type": "code",
      "source": [
        "print(data.Fuel_Type.value_counts(),\"\\n\")\n",
        "print(data.Seller_Type.value_counts(),\"\\n\")\n",
        "print(data.Transmission.value_counts())"
      ],
      "execution_count": null,
      "outputs": []
    },
    {
      "metadata": {
        "trusted": true,
        "_uuid": "81a1adf2f6f932bb0c348db878c0379beb3498a1",
        "id": "4UwIJ6DaRwpk"
      },
      "cell_type": "code",
      "source": [
        "#Fuel_Type ==> 1 = Petrol , 0 = Diesel , 2 = CNG\n",
        "#Seller_Type ==> 1 = Manual , 0 = Automatic \n",
        "#Seller_Type ==> 1 = Dealer , 0 = Individual\n",
        "\n",
        "data.Fuel_Type.replace(regex={\"Petrol\":\"0\",\"Diesel\":\"1\",\"CNG\":\"2\"},inplace=True)\n",
        "data.Seller_Type.replace(regex={\"Dealer\":\"0\",\"Individual\":\"1\"},inplace=True)\n",
        "data.Transmission.replace(regex={\"Manual\":\"0\",\"Automatic\":\"1\"},inplace=True)\n",
        "data[[\"Fuel_Type\",\"Seller_Type\",\"Transmission\"]]=data[[\"Fuel_Type\",\"Seller_Type\",\"Transmission\"]].astype(int)"
      ],
      "execution_count": null,
      "outputs": []
    },
    {
      "metadata": {
        "trusted": true,
        "_uuid": "22222cec651743849fea4644bd7c9c6dbba7a741",
        "id": "ogV48XNmRwpl"
      },
      "cell_type": "code",
      "source": [
        "sns.pairplot(data,diag_kind=\"kde\", diag_kws=dict(shade=True, bw=.05, vertical=False))\n",
        "plt.show()"
      ],
      "execution_count": null,
      "outputs": []
    },
    {
      "metadata": {
        "trusted": true,
        "_uuid": "505025abae837bca46bfcf672cee8d226d12dcdd",
        "scrolled": true,
        "id": "5NAl1hzMRwpl"
      },
      "cell_type": "code",
      "source": [
        "from mpl_toolkits.mplot3d import Axes3D\n",
        "\n",
        "fig = plt.figure(figsize=(16,9))\n",
        "ax  = fig.gca(projection = \"3d\")\n",
        "\n",
        "plot =  ax.scatter(data[\"Year\"],\n",
        "           data[\"Present_Price\"],\n",
        "           data[\"Kms_Driven\"],\n",
        "           linewidth=1,edgecolor =\"k\",\n",
        "           c=data[\"Selling_Price\"],s=100,cmap=\"hot\")\n",
        "\n",
        "ax.set_xlabel(\"Year\")\n",
        "ax.set_ylabel(\"Present_Price\")\n",
        "ax.set_zlabel(\"Kms_Driven\")\n",
        "\n",
        "lab = fig.colorbar(plot,shrink=.5,aspect=5)\n",
        "lab.set_label(\"Selling_Price\",fontsize = 15)\n",
        "\n",
        "plt.title(\"3D plot for Year, Present price and Kms driven\",color=\"red\")\n",
        "plt.show()"
      ],
      "execution_count": null,
      "outputs": []
    },
    {
      "metadata": {
        "trusted": true,
        "_uuid": "412010396af79d65558c32dc28bc55a0331208dd",
        "id": "kNlwc4SmRwpl"
      },
      "cell_type": "code",
      "source": [
        "y=data.Selling_Price\n",
        "x=data.drop([\"Selling_Price\",\"Car_Name\"],axis=1)"
      ],
      "execution_count": null,
      "outputs": []
    },
    {
      "metadata": {
        "trusted": true,
        "_uuid": "3d928f6902df504aff06059c16495c250b9cd307",
        "id": "Knf3PFXORwpm"
      },
      "cell_type": "code",
      "source": [
        "from sklearn.model_selection import train_test_split\n",
        "x_train,x_test,y_train,y_test=train_test_split(x,y,test_size=0.2,random_state=1)\n",
        "print(\"x train: \",x_train.shape)\n",
        "print(\"x test: \",x_test.shape)\n",
        "print(\"y train: \",y_train.shape)\n",
        "print(\"y test: \",y_test.shape)"
      ],
      "execution_count": null,
      "outputs": []
    },
    {
      "metadata": {
        "trusted": true,
        "_uuid": "ac845417833a945ee31f153fad4eb8cfcf07e0da",
        "id": "NneYx5-GRwpm"
      },
      "cell_type": "code",
      "source": [
        "from sklearn.metrics import r2_score\n",
        "from sklearn.model_selection import cross_val_score"
      ],
      "execution_count": null,
      "outputs": []
    },
    {
      "metadata": {
        "trusted": true,
        "_uuid": "c472dd35b9878cee60f619d0d6c66723e47e67a8",
        "id": "ax31QWJYRwpm"
      },
      "cell_type": "code",
      "source": [
        "cv=5 # CV value\n",
        "r_2 = [] # List for r 2 score\n",
        "CV = [] # list for CV scores mean\n",
        "\n",
        "# Main function for models\n",
        "def model(algorithm,x_train_,y_train_,x_test_,y_test_): \n",
        "    algorithm.fit(x_train_,y_train_)\n",
        "    predicts=algorithm.predict(x_test_)\n",
        "    prediction=pd.DataFrame(predicts)\n",
        "    R_2=r2_score(y_test_,prediction)\n",
        "    cross_val=cross_val_score(algorithm,x_train_,y_train_,cv=cv)\n",
        "    \n",
        "    # Appending results to Lists \n",
        "    r_2.append(R_2)\n",
        "    CV.append(cross_val.mean())\n",
        "    \n",
        "    # Printing results  \n",
        "    print(algorithm,\"\\n\") \n",
        "    print(\"r_2 score :\",R_2,\"\\n\")\n",
        "    print(\"CV scores:\",cross_val,\"\\n\")\n",
        "    print(\"CV scores mean:\",cross_val.mean())\n",
        "    \n",
        "    # Plot for prediction vs originals\n",
        "    test_index=y_test_.reset_index()[\"Selling_Price\"]\n",
        "    ax=test_index.plot(label=\"originals\",figsize=(12,6),linewidth=2,color=\"r\")\n",
        "    ax=prediction[0].plot(label = \"predictions\",figsize=(12,6),linewidth=2,color=\"g\")\n",
        "    plt.legend(loc='upper right')\n",
        "    plt.title(\"ORIGINALS VS PREDICTIONS\")\n",
        "    plt.xlabel(\"index\")\n",
        "    plt.ylabel(\"values\")\n",
        "    plt.show()"
      ],
      "execution_count": null,
      "outputs": []
    },
    {
      "metadata": {
        "trusted": true,
        "_uuid": "7dc10b52c67313d5189daef2726ceb25ad936656",
        "id": "c45BPdJeRwpn"
      },
      "cell_type": "code",
      "source": [
        "from sklearn.linear_model import LinearRegression\n",
        "lr = LinearRegression()\n",
        "model(lr,x_train,y_train,x_test,y_test)"
      ],
      "execution_count": null,
      "outputs": []
    },
    {
      "metadata": {
        "trusted": true,
        "_uuid": "f33ae508163ad604ca45818814c6409e48236295",
        "id": "uUoE1CLQRwpn"
      },
      "cell_type": "code",
      "source": [
        "from sklearn.linear_model import Lasso\n",
        "from sklearn.model_selection import GridSearchCV\n",
        "\n",
        "alphas = np.logspace(-3,3,num=14) # range for alpha\n",
        "\n",
        "grid = GridSearchCV(estimator=Lasso(), param_grid=dict(alpha=alphas))\n",
        "grid.fit(x_train, y_train)\n",
        "\n",
        "print(grid.best_score_)\n",
        "print(grid.best_estimator_.alpha)"
      ],
      "execution_count": null,
      "outputs": []
    },
    {
      "metadata": {
        "trusted": true,
        "_uuid": "a12f09fb04a21b7e205b2918fb33e5f9ea048f7a",
        "id": "B8qzwc_dRwpn"
      },
      "cell_type": "code",
      "source": [
        "ls = Lasso(alpha = grid.best_estimator_.alpha, normalize = True) # applied the best estimator\n",
        "model(ls,x_train,y_train,x_test,y_test)"
      ],
      "execution_count": null,
      "outputs": []
    },
    {
      "metadata": {
        "trusted": true,
        "_uuid": "0469d935fa77420125226a473f6c24b98dc144a1",
        "id": "v535kW2MRwpo"
      },
      "cell_type": "code",
      "source": [
        "from sklearn.linear_model import Ridge\n",
        "\n",
        "alphas = np.logspace(-3,3,num=14) # range for alpha\n",
        "\n",
        "grid2 = GridSearchCV(estimator=Ridge(), param_grid=dict(alpha=alphas)) \n",
        "grid2.fit(x_train, y_train)\n",
        "\n",
        "print(grid2.best_score_)\n",
        "print(grid2.best_estimator_.alpha)"
      ],
      "execution_count": null,
      "outputs": []
    },
    {
      "metadata": {
        "trusted": true,
        "_uuid": "416f47712f57e654101b2be9858ad2fd8f6169d6",
        "id": "wAZGdj9wRwpo"
      },
      "cell_type": "code",
      "source": [
        "ridge = Ridge(alpha = 0.01, normalize = True) # applied the best estimator\n",
        "model(ridge,x_train,y_train,x_test,y_test)"
      ],
      "execution_count": null,
      "outputs": []
    },
    {
      "metadata": {
        "trusted": true,
        "_uuid": "5dca00f03ec301adb9f8c910df03e3a7f95e02df",
        "id": "CH2YKLbJRwpo"
      },
      "cell_type": "code",
      "source": [
        "from sklearn.tree import DecisionTreeRegressor\n",
        "dtr = DecisionTreeRegressor()\n",
        "model(dtr,x_train,y_train,x_test,y_test)"
      ],
      "execution_count": null,
      "outputs": []
    },
    {
      "metadata": {
        "trusted": true,
        "_uuid": "150c2e86d0637816624eaf3535cce19df9ded8c5",
        "id": "-TRjF-axRwpo"
      },
      "cell_type": "code",
      "source": [
        "from sklearn.ensemble import RandomForestRegressor\n",
        "rf = RandomForestRegressor(n_estimators = 100, random_state = 42)\n",
        "model(rf,x_train,y_train,x_test,y_test)"
      ],
      "execution_count": null,
      "outputs": []
    },
    {
      "metadata": {
        "trusted": true,
        "_uuid": "b8c6b89e45493320fd1e310ed36f6c3f239089b8",
        "id": "BAYTyg5LRwpu"
      },
      "cell_type": "code",
      "source": [
        "Model = [\"LinearRegression\",\"Lasso\",\"Ridge\",\"DecisionTreeRegressor\",\"RandomForestRegressor\"]\n",
        "results=pd.DataFrame({'Model': Model,'R Squared': r_2,'CV score mean': CV})\n",
        "results"
      ],
      "execution_count": null,
      "outputs": []
    },
    {
      "cell_type": "code",
      "source": [],
      "metadata": {
        "id": "LxEwugH4SGcI"
      },
      "execution_count": null,
      "outputs": []
    },
    {
      "cell_type": "code",
      "source": [
        "project member \n",
        "sejal raka \n",
        "punam aher \n",
        "himanshu ravne \n",
        "bhavarth sonawane"
      ],
      "metadata": {
        "id": "R5Pa5tC7SHvP"
      },
      "execution_count": null,
      "outputs": []
    }
  ],
  "metadata": {
    "kernelspec": {
      "display_name": "Python 3",
      "language": "python",
      "name": "python3"
    },
    "language_info": {
      "name": "python",
      "version": "3.6.6",
      "mimetype": "text/x-python",
      "codemirror_mode": {
        "name": "ipython",
        "version": 3
      },
      "pygments_lexer": "ipython3",
      "nbconvert_exporter": "python",
      "file_extension": ".py"
    },
    "colab": {
      "provenance": [],
      "include_colab_link": true
    }
  },
  "nbformat": 4,
  "nbformat_minor": 0
}